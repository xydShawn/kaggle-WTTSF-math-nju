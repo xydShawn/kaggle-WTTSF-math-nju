{
 "cells": [
  {
   "cell_type": "code",
   "execution_count": 1,
   "metadata": {
    "collapsed": true
   },
   "outputs": [],
   "source": [
    "import pandas as pd\n",
    "import matplotlib.pyplot as plt\n",
    "import numpy as np\n",
    "import operator\n",
    "import re\n",
    "from sklearn import preprocessing\n",
    "from sklearn.preprocessing import Imputer\n",
    "from collections import Counter\n",
    "from sklearn import linear_model\n",
    "import csv\n",
    "from datetime import datetime\n",
    "\n",
    "%matplotlib inline"
   ]
  },
  {
   "cell_type": "code",
   "execution_count": 2,
   "metadata": {
    "collapsed": true
   },
   "outputs": [],
   "source": [
    "df1=pd.read_csv(\"../data/train_1.csv\")"
   ]
  },
  {
   "cell_type": "code",
   "execution_count": 3,
   "metadata": {
    "collapsed": false
   },
   "outputs": [
    {
     "name": "stdout",
     "output_type": "stream",
     "text": [
      "(145063, 121)\n"
     ]
    }
   ],
   "source": [
    "matrix = df1.loc[:, '2015-11-01':'2016-03-01'].values\n",
    "matrix_remove_2_29 = np.delete(matrix, 120, axis=1) # 2017 does not have Feb 29th\n",
    "print(matrix_remove_2_29.shape)"
   ]
  },
  {
   "cell_type": "code",
   "execution_count": 4,
   "metadata": {
    "collapsed": false
   },
   "outputs": [
    {
     "name": "stdout",
     "output_type": "stream",
     "text": [
      "[     4      4      4 ..., 145062 145062 145062]\n",
      "13785\n",
      "(131278, 121)\n"
     ]
    }
   ],
   "source": [
    "delete_nan_row = {}\n",
    "z = np.where(np.isnan(matrix_remove_2_29))\n",
    "print(z[0])\n",
    "for x in z[0]:\n",
    "    if x in delete_nan_row:\n",
    "        delete_nan_row[x] += 1\n",
    "    else:\n",
    "        delete_nan_row[x] = 1\n",
    "hp_threshold = 60 # delete row if its NaN larger than this\n",
    "idx = [k for k, v in delete_nan_row.iteritems() if v > hp_threshold]\n",
    "print(len(idx))\n",
    "not_much_nan_m = np.delete(matrix_remove_2_29, idx, axis=0)\n",
    "print(not_much_nan_m.shape)"
   ]
  },
  {
   "cell_type": "code",
   "execution_count": 5,
   "metadata": {
    "collapsed": false
   },
   "outputs": [
    {
     "data": {
      "text/plain": [
       "(array([], dtype=int64), array([], dtype=int64))"
      ]
     },
     "execution_count": 5,
     "metadata": {},
     "output_type": "execute_result"
    }
   ],
   "source": [
    "# Imputation for missing value\n",
    "imp = Imputer(missing_values='NaN', strategy='mean', axis=0)\n",
    "imp.fit(not_much_nan_m)\n",
    "#Imputer(axis=0, copy=True, missing_values='NaN', strategy='mean', verbose=0)\n",
    "no_nan_m = imp.transform(not_much_nan_m)    \n",
    "np.where(np.isnan(no_nan_m))"
   ]
  },
  {
   "cell_type": "code",
   "execution_count": 6,
   "metadata": {
    "collapsed": false
   },
   "outputs": [
    {
     "name": "stderr",
     "output_type": "stream",
     "text": [
      "/Applications/anaconda/lib/python2.7/site-packages/sklearn/linear_model/coordinate_descent.py:1687: UserWarning: Objective did not converge, you might want to increase the number of iterations\n",
      "  warnings.warn('Objective did not converge, you might want'\n"
     ]
    },
    {
     "data": {
      "text/plain": [
       "MultiTaskLasso(alpha=0.3, copy_X=True, fit_intercept=True, max_iter=3000,\n",
       "        normalize=False, random_state=None, selection='cyclic', tol=0.0001,\n",
       "        warm_start=False)"
      ]
     },
     "execution_count": 6,
     "metadata": {},
     "output_type": "execute_result"
    }
   ],
   "source": [
    "#multitask Lasso\n",
    "scaled_X_2 = preprocessing.scale(no_nan_m[:, 0:61])\n",
    "y2 = no_nan_m[:, 61:]\n",
    "clf = linear_model.MultiTaskLasso(alpha=0.1, max_iter = 3000)\n",
    "clf.fit(scaled_X_2, y2)"
   ]
  },
  {
   "cell_type": "code",
   "execution_count": 8,
   "metadata": {
    "collapsed": false
   },
   "outputs": [
    {
     "name": "stdout",
     "output_type": "stream",
     "text": [
      "(145063, 61)\n"
     ]
    }
   ],
   "source": [
    "predict_X_raw = df1.loc[:, '2016-11-01':'2016-12-31'].values\n",
    "print(predict_X_raw.shape)\n",
    "imp2 = Imputer(missing_values='NaN', strategy='mean', axis=0)\n",
    "imp2.fit(predict_X_raw)\n",
    "predict_X_tf = imp2.transform(predict_X_raw)\n",
    "predict_X = preprocessing.scale(predict_X_tf)\n",
    "y_multi_lasso = clf.predict(predict_X)"
   ]
  },
  {
   "cell_type": "code",
   "execution_count": 10,
   "metadata": {
    "collapsed": false
   },
   "outputs": [
    {
     "name": "stdout",
     "output_type": "stream",
     "text": [
      "(145063, 59)\n"
     ]
    }
   ],
   "source": [
    "print(y_multi_lasso.shape)"
   ]
  },
  {
   "cell_type": "code",
   "execution_count": 12,
   "metadata": {
    "collapsed": false
   },
   "outputs": [
    {
     "data": {
      "text/plain": [
       "Lasso(alpha=0.1, copy_X=True, fit_intercept=True, max_iter=5000,\n",
       "   normalize=False, positive=False, precompute=False, random_state=None,\n",
       "   selection='cyclic', tol=0.0001, warm_start=False)"
      ]
     },
     "execution_count": 12,
     "metadata": {},
     "output_type": "execute_result"
    }
   ],
   "source": [
    "# Lasso regression\n",
    "scaled_X = preprocessing.scale(no_nan_m[:, 0:61])\n",
    "y = no_nan_m[:, 61]\n",
    "reg = linear_model.Lasso(alpha = 0.1, max_iter = 5000)\n",
    "reg.fit(scaled_X, y)"
   ]
  },
  {
   "cell_type": "code",
   "execution_count": 22,
   "metadata": {
    "collapsed": false
   },
   "outputs": [
    {
     "name": "stdout",
     "output_type": "stream",
     "text": [
      "(145063,)\n",
      "(145063, 1)\n"
     ]
    }
   ],
   "source": [
    "y_one = reg.predict(predict_X)\n",
    "print(y_one.shape)\n",
    "y_one = np.reshape(y_one, (145063, 1))\n",
    "print(y_one.shape)"
   ]
  },
  {
   "cell_type": "code",
   "execution_count": 23,
   "metadata": {
    "collapsed": false
   },
   "outputs": [
    {
     "name": "stdout",
     "output_type": "stream",
     "text": [
      "<type 'numpy.ndarray'>\n",
      "<type 'numpy.ndarray'>\n"
     ]
    }
   ],
   "source": [
    "print(type(y_multi_lasso))\n",
    "print(type(y_one))\n",
    "final_y = np.concatenate((y_one, y_multi_lasso), axis=1)"
   ]
  },
  {
   "cell_type": "code",
   "execution_count": 24,
   "metadata": {
    "collapsed": true
   },
   "outputs": [],
   "source": [
    "idx_less_zero = np.where(final_y < 0)\n",
    "final_y[idx_less_zero] = 0"
   ]
  },
  {
   "cell_type": "code",
   "execution_count": 26,
   "metadata": {
    "collapsed": false
   },
   "outputs": [
    {
     "name": "stdout",
     "output_type": "stream",
     "text": [
      "(145063, 60)\n"
     ]
    }
   ],
   "source": [
    "print(final_y.shape)\n",
    "np.savetxt(\"../tmp/pre_submission_07281746.csv\", final_y, delimiter=\",\")"
   ]
  },
  {
   "cell_type": "code",
   "execution_count": 39,
   "metadata": {
    "collapsed": false
   },
   "outputs": [],
   "source": [
    "import sys\n",
    "sys.path.insert(0, '../')\n",
    "\n",
    "from utils import generate_submission_1"
   ]
  },
  {
   "cell_type": "code",
   "execution_count": null,
   "metadata": {
    "collapsed": true
   },
   "outputs": [],
   "source": [
    "result = final_y\n",
    "\n",
    "map_pos = pd.read_csv('../tmp/map_pos.csv').values\n",
    "\n",
    "res_dict = {}\n",
    "days = 60\n",
    "page_num = 145063\n",
    "for i in range(page_num * days):\n",
    "    res_dict[map_pos[i, 2]] = temp[map_pos[i, 0], map_pos[i, 1]]\n",
    "ttime = datetime.now()\n",
    "time2str = strc(ttime.month) + strc(ttime.day) + strc(ttime.hour) + strc(ttime.minute)\n",
    "filename = '../result/submission_' + time2str + '.csv'\n",
    "\n",
    "\n"
   ]
  },
  {
   "cell_type": "code",
   "execution_count": null,
   "metadata": {
    "collapsed": true
   },
   "outputs": [],
   "source": [
    "submission_result = pd.DataFrame(res_dict, columns = ['Id', 'Visits'])\n",
    "submission_result.to_csv(filename, index=False)"
   ]
  },
  {
   "cell_type": "code",
   "execution_count": 55,
   "metadata": {
    "collapsed": true
   },
   "outputs": [],
   "source": [
    "def strc(x):\n",
    "    s = str(x) if x >= 10 else '0' + str(x)\n",
    "    return s"
   ]
  },
  {
   "cell_type": "code",
   "execution_count": 64,
   "metadata": {
    "collapsed": false
   },
   "outputs": [],
   "source": [
    "ttime = datetime.now()\n",
    "time2str = strc(ttime.month) + strc(ttime.day) + strc(ttime.hour) + strc(ttime.minute)\n",
    "filename = '../result/submission_' + time2str + '.csv'\n",
    "days = 60\n",
    "page_num = 145063\n",
    "submission_result = pd.read_csv('../data/sample_submission_1.csv')\n",
    "sub_res = submission_result.values\n",
    "map_pos = pd.read_csv('../tmp/map_pos.csv').values\n",
    "with open(filename, 'wb') as csv_file:\n",
    "    writer = csv.writer(csv_file)\n",
    "    writer.writerow(['Id', 'Visits'])\n",
    "    for i in range(page_num * days):\n",
    "        value = result[map_pos[i, 0], map_pos[i, 1]]\n",
    "        writer.writerow([sub_res[i, 0], value])"
   ]
  },
  {
   "cell_type": "code",
   "execution_count": 62,
   "metadata": {
    "collapsed": false
   },
   "outputs": [
    {
     "name": "stdout",
     "output_type": "stream",
     "text": [
      "(8703780, 2)\n"
     ]
    }
   ],
   "source": [
    "print(submission_result.shape)\n",
    "sub_res = submission_result.values"
   ]
  },
  {
   "cell_type": "code",
   "execution_count": 65,
   "metadata": {
    "collapsed": false
   },
   "outputs": [
    {
     "name": "stdout",
     "output_type": "stream",
     "text": [
      "(8703780, 2)\n"
     ]
    }
   ],
   "source": [
    "new_res = pd.read_csv(filename).values\n",
    "print(new_res.shape)"
   ]
  },
  {
   "cell_type": "code",
   "execution_count": null,
   "metadata": {
    "collapsed": true
   },
   "outputs": [],
   "source": []
  }
 ],
 "metadata": {
  "kernelspec": {
   "display_name": "Python 2",
   "language": "python",
   "name": "python2"
  },
  "language_info": {
   "codemirror_mode": {
    "name": "ipython",
    "version": 2
   },
   "file_extension": ".py",
   "mimetype": "text/x-python",
   "name": "python",
   "nbconvert_exporter": "python",
   "pygments_lexer": "ipython2",
   "version": "2.7.12"
  }
 },
 "nbformat": 4,
 "nbformat_minor": 0
}
