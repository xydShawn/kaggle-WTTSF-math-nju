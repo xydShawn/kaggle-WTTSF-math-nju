{
 "cells": [
  {
   "cell_type": "code",
   "execution_count": 1,
   "metadata": {
    "collapsed": true
   },
   "outputs": [],
   "source": [
    "import pandas as pd\n",
    "import matplotlib.pyplot as plt\n",
    "import numpy as np\n",
    "import operator\n",
    "import re\n",
    "from sklearn import preprocessing\n",
    "from sklearn.preprocessing import Imputer\n",
    "from collections import Counter\n",
    "from sklearn import linear_model\n",
    "import csv\n",
    "from datetime import datetime\n",
    "from scipy.interpolate import interp1d\n",
    "\n",
    "%matplotlib inline"
   ]
  },
  {
   "cell_type": "code",
   "execution_count": 61,
   "metadata": {
    "collapsed": false
   },
   "outputs": [
    {
     "name": "stdout",
     "output_type": "stream",
     "text": [
      "start loading data...\n",
      "matrix shape:  (145063, 490)\n",
      "# of lines needed to be interpolate:  25835\n",
      "# of lines which are all NaN:  1780\n",
      "removing peaks is done. (145063, 490)\n"
     ]
    }
   ],
   "source": [
    "def get_NaN_idx(matrix, days):\n",
    "\tz = np.where(np.isnan(matrix))\n",
    "\tdelete_nan_row = {}\n",
    "\tfor x in z[0]:\n",
    "\t\tif x in delete_nan_row:\n",
    "\t\t\tdelete_nan_row[x] += 1\n",
    "\t\telse:\n",
    "\t\t\tdelete_nan_row[x] = 1\n",
    "\tidx_interpt = [k for k, v in delete_nan_row.iteritems() if v < days]\n",
    "\tidx_all_nan = [k for k, v in delete_nan_row.iteritems() if v == days]\n",
    "\tprint \"# of lines needed to be interpolate: \", len(idx_interpt)\n",
    "\tprint \"# of lines which are all NaN: \", len(idx_all_nan)\n",
    "\treturn idx_interpt, idx_all_nan\n",
    "\n",
    "print(\"start loading data...\")\n",
    "df1 = pd.read_csv(\"../data/train_1.csv\")\n",
    "start_date = 1\n",
    "end_date = 491\n",
    "percentile = 75\n",
    "times = 10\n",
    "matrix = df1.iloc[:, start_date:end_date].values\n",
    "print \"matrix shape: \", matrix.shape\n",
    "(page_num, days) = matrix.shape\n",
    "\n",
    "idx_interpt, idx_all_nan = get_NaN_idx(matrix, days)\n",
    "remove_peaks = True\n",
    "if remove_peaks == True:\n",
    "    idx = np.arange(page_num)\n",
    "    idx = np.delete(idx, idx_all_nan)\n",
    "    peaks = np.nanpercentile(matrix[idx, :], percentile, axis=1)\n",
    "    peaks = times * peaks\n",
    "    for i in range(len(idx)):\n",
    "        ii = idx[i]\n",
    "        matrix[ii][matrix[ii, :] > peaks[i]] = np.nan\n",
    "    #idx_interpt, idx_all_nan = get_NaN_idx(matrix, days)\n",
    "\n",
    "matrix = np.around(matrix)\n",
    "np.savetxt(\"../result/remove_peaks.csv.gz\", matrix, fmt='%s', delimiter=\",\")\n",
    "print 'removing peaks is done.', matrix.shape"
   ]
  },
  {
   "cell_type": "code",
   "execution_count": 62,
   "metadata": {
    "collapsed": false
   },
   "outputs": [
    {
     "name": "stdout",
     "output_type": "stream",
     "text": [
      "[[  9.   9.  22.  26.  24.]\n",
      " [ 13.  22.  11.  10.   4.]\n",
      " [  4.   0.   3.   4.   4.]\n",
      " [ 26.  14.   9.  11.  16.]\n",
      " [ nan  nan  nan  nan  nan]]\n",
      "[[  9.   9.  22.  26.  24.]\n",
      " [ 13.  22.  11.  10.   4.]\n",
      " [  4.   0.   3.   4.   4.]\n",
      " [ 26.  14.   9.  11.  16.]\n",
      " [ nan  nan  nan  nan  nan]]\n",
      "(145063, 490)\n",
      "[[  170.   137.   215.   162.   145.]\n",
      " [ 3182.  2717.  2216.  2125.  2662.]\n",
      " [   39.    35.    37.    38.    41.]\n",
      " [ 1207.   912.  1073.  1315.  1255.]\n",
      " [  514.   365.   377.   387.   398.]]\n"
     ]
    }
   ],
   "source": [
    "print matrix[0:5, 5:10]\n",
    "matrix2 = np.genfromtxt(\"../result/remove_peaks.csv.gz\", delimiter=\",\")\n",
    "print matrix2[0:5, 5:10]\n",
    "print matrix2.shape\n",
    "print matrix2[29392:29397, 480:485]"
   ]
  },
  {
   "cell_type": "code",
   "execution_count": 42,
   "metadata": {
    "collapsed": false
   },
   "outputs": [
    {
     "name": "stdout",
     "output_type": "stream",
     "text": [
      "[[  170.   137.   215.   162.   145.]\n",
      " [ 3182.  2717.  2216.  2125.  2662.]\n",
      " [   39.    35.    37.    38.    41.]\n",
      " [ 1207.   912.  1073.  1315.  1255.]\n",
      " [  514.   365.   377.   387.   398.]]\n"
     ]
    }
   ],
   "source": [
    "print matrix[29392:29397, 480:485]"
   ]
  },
  {
   "cell_type": "code",
   "execution_count": 40,
   "metadata": {
    "collapsed": false
   },
   "outputs": [],
   "source": [
    "df1=pd.read_csv(\"../data/train_1.csv\")"
   ]
  },
  {
   "cell_type": "code",
   "execution_count": 41,
   "metadata": {
    "collapsed": false
   },
   "outputs": [
    {
     "name": "stdout",
     "output_type": "stream",
     "text": [
      "(145063, 550)\n"
     ]
    }
   ],
   "source": [
    "matrix = df1.iloc[:, 1:].values \n",
    "z = np.where(np.isnan(matrix))\n",
    "#matrix_remove_2_29 = np.delete(matrix, 120, axis=1) # 2017 does not have Feb 29th\n",
    "print(matrix.shape) #(145063, 550)"
   ]
  },
  {
   "cell_type": "code",
   "execution_count": 14,
   "metadata": {
    "collapsed": true
   },
   "outputs": [],
   "source": [
    "(page_num, days) = matrix.shape"
   ]
  },
  {
   "cell_type": "code",
   "execution_count": 5,
   "metadata": {
    "collapsed": false
   },
   "outputs": [
    {
     "name": "stdout",
     "output_type": "stream",
     "text": [
      "[     4      4      4 ..., 145062 145062 145062]\n"
     ]
    }
   ],
   "source": [
    "delete_nan_row = {}\n",
    "print(z[0])\n",
    "for x in z[0]:\n",
    "    if x in delete_nan_row:\n",
    "        delete_nan_row[x] += 1\n",
    "    else:\n",
    "        delete_nan_row[x] = 1\n"
   ]
  },
  {
   "cell_type": "code",
   "execution_count": 6,
   "metadata": {
    "collapsed": false
   },
   "outputs": [
    {
     "name": "stdout",
     "output_type": "stream",
     "text": [
      "27134\n",
      "652\n"
     ]
    }
   ],
   "source": [
    "hp_threshold_up = 100\n",
    "hp_threshold_low = 50# delete row if its NaN larger than this\n",
    "#idx_interpt = [k for k, v in delete_nan_row.iteritems() if v < hp_threshold_up and v > hp_threshold_low]\n",
    "idx_interpt = [k for k, v in delete_nan_row.iteritems() if v < days]\n",
    "idx_all_nan = [k for k, v in delete_nan_row.iteritems() if v == days]\n",
    "print(len(idx_interpt))\n",
    "print(len(idx_all_nan))"
   ]
  },
  {
   "cell_type": "code",
   "execution_count": 7,
   "metadata": {
    "collapsed": false
   },
   "outputs": [
    {
     "name": "stdout",
     "output_type": "stream",
     "text": [
      "1\n",
      "3\n",
      "0\n",
      "[  8.   9.  nan   7.   8.   0.  nan]\n"
     ]
    }
   ],
   "source": [
    "a1 = np.array([np.nan, 7, 8, 0,np.nan])\n",
    "a2 = np.array([np.nan, np.nan, np.nan, 7, 8, 0,np.nan])\n",
    "a3 = np.array([8, 9, np.nan, 7, 8, 0,np.nan])\n",
    "\n",
    "def start_idx(w):\n",
    "    nan_idx = np.where(np.isnan(w))[0]\n",
    "    cnt = 0\n",
    "    while cnt < len(nan_idx) and nan_idx[cnt] == cnt:\n",
    "        cnt += 1\n",
    "    return cnt\n",
    "\n",
    "print(start_idx(a1))\n",
    "print(start_idx(a2))\n",
    "print(start_idx(a3))\n",
    "\n",
    "a3[0:0] = 0\n",
    "print(a3)"
   ]
  },
  {
   "cell_type": "code",
   "execution_count": 81,
   "metadata": {
    "collapsed": false
   },
   "outputs": [
    {
     "name": "stdout",
     "output_type": "stream",
     "text": [
      "(145063, 550)\n"
     ]
    }
   ],
   "source": [
    "new_matrix = np.copy(matrix)\n",
    "start_dict = {}\n",
    "x = np.arange(0, days)\n",
    "for i in range(len(idx_interpt)):\n",
    "    i_real = idx_interpt[i]\n",
    "    w = matrix[i_real, :]\n",
    "    start = start_idx(w)\n",
    "    start_dict[i_real] = start \n",
    "    w[0:start] = 0\n",
    "    yy_idx = np.where(np.isnan(w))[0]\n",
    "    yy = np.delete(w, yy_idx)\n",
    "    xx = np.delete(x, yy_idx)\n",
    "    f = interp1d(xx, yy, kind = 'linear', fill_value = \"extrapolate\")\n",
    "    ynew = f(x)\n",
    "    new_matrix[i_real, :] = ynew\n",
    "print(new_matrix.shape)    "
   ]
  },
  {
   "cell_type": "code",
   "execution_count": 11,
   "metadata": {
    "collapsed": false
   },
   "outputs": [
    {
     "name": "stdout",
     "output_type": "stream",
     "text": [
      "(145063, 550)\n"
     ]
    }
   ],
   "source": [
    "matrix_linear = np.copy(matrix)\n",
    "start_dict = {}\n",
    "x = np.arange(0, days)\n",
    "for i in range(len(idx_interpt)):\n",
    "    i_real = idx_interpt[i]\n",
    "    w = matrix[i_real, :]\n",
    "    start = start_idx(w)\n",
    "    start_dict[i_real] = start \n",
    "    w[0:start] = 0\n",
    "    yy_idx = np.where(np.isnan(w))[0]\n",
    "    yy = np.delete(w, yy_idx)\n",
    "    xx = np.delete(x, yy_idx)\n",
    "    if (xx[-1] != days - 1):\n",
    "        xx = np.append(xx, days - 1)\n",
    "        yy = np.append(yy, 0)\n",
    "    f = interp1d(xx, yy, kind = 'cubic')\n",
    "    ynew = f(x)\n",
    "    matrix_linear[i_real, :] = ynew\n",
    "print(matrix_linear.shape)    "
   ]
  },
  {
   "cell_type": "code",
   "execution_count": 12,
   "metadata": {
    "collapsed": true
   },
   "outputs": [],
   "source": [
    "matrix_linear[idx_all_nan, :] = 0"
   ]
  },
  {
   "cell_type": "code",
   "execution_count": 82,
   "metadata": {
    "collapsed": true
   },
   "outputs": [],
   "source": [
    "new_matrix[idx_all_nan, :] = 0"
   ]
  },
  {
   "cell_type": "code",
   "execution_count": 78,
   "metadata": {
    "collapsed": false
   },
   "outputs": [
    {
     "name": "stdout",
     "output_type": "stream",
     "text": [
      "completing\n",
      "('shape of result', (145063, 60))\n"
     ]
    }
   ],
   "source": [
    "\n",
    "num_ttw = 56\n",
    "stat = 'median'\n",
    "\n",
    "sub_data_pre = matrix_linear[:, -num_ttw:]\n",
    "\n",
    "result = np.zeros((page_num, 60))\n",
    "#y = np.median(sub_data_pre[:, -num_ttw:], axis = 1)\n",
    "for i in range(60):\n",
    "    y = np.median(sub_data_pre[:, -num_ttw:], axis = 1)\n",
    "    result[:, i] = y\n",
    "    y = np.reshape(y, (len(y), 1))\n",
    "    sub_data_pre = np.append(sub_data_pre, y, axis = 1)\n",
    "print('completing')\n",
    "print('shape of result', result.shape)\n",
    "generate_submission_2(result)\n",
    "\n"
   ]
  },
  {
   "cell_type": "code",
   "execution_count": 19,
   "metadata": {
    "collapsed": true
   },
   "outputs": [],
   "source": [
    "ww = csv.writer(open(\"../result/first_non_NaN_start_dict.csv\", \"w\"))\n",
    "for key, val in start_dict.items():\n",
    "    ww.writerow([key, val])"
   ]
  },
  {
   "cell_type": "code",
   "execution_count": 48,
   "metadata": {
    "collapsed": false
   },
   "outputs": [],
   "source": [
    "round_matrix = np.rint(new_matrix)\n",
    "int_matrix = round_matrix.astype(np.int32)\n",
    "\n",
    "np.savetxt(\"../result/clean_NaN_nearest_int.csv\", int_matrix, fmt='%i', delimiter=\",\")"
   ]
  },
  {
   "cell_type": "code",
   "execution_count": 13,
   "metadata": {
    "collapsed": true
   },
   "outputs": [],
   "source": [
    "np.savetxt(\"../result/clean_NaN_cubic_int.csv.gz\", matrix_linear, fmt='%i', delimiter=\",\")\n",
    "#write.csv(sub[,c('Id', 'Visits')], file=gzfile(\"sub_median.csv.gz\"), row.names = FALSE)\n"
   ]
  },
  {
   "cell_type": "code",
   "execution_count": 83,
   "metadata": {
    "collapsed": true
   },
   "outputs": [],
   "source": [
    "np.savetxt(\"../result/clean_NaN_linear_int.csv.gz\", new_matrix, fmt='%i', delimiter=\",\")"
   ]
  },
  {
   "cell_type": "code",
   "execution_count": 59,
   "metadata": {
    "collapsed": false
   },
   "outputs": [
    {
     "data": {
      "text/plain": [
       "array([  1.,   2.,   3.,   4.,  nan,   6.,   7.,   8.,  nan,  nan])"
      ]
     },
     "execution_count": 59,
     "metadata": {},
     "output_type": "execute_result"
    }
   ],
   "source": [
    "a = np.array([[1, 2, 3, 4, np.nan, 6, 7, 8, 9, 10],[11, 12, 31, 8, 55, 26, 17, 98, 29, 7]])\n",
    "b = np.nanpercentile(a, 75, axis=1)\n",
    "b = 10*b\n",
    "a[0][a[0, :] > 8] = np.nan\n",
    "a[0, :]\n",
    "#np.where(a[0, :] > 8, a[0, :], np.nan)\n",
    "#print a[0]\n",
    "#print(np.median(a, axis=1))"
   ]
  },
  {
   "cell_type": "code",
   "execution_count": 67,
   "metadata": {
    "collapsed": false
   },
   "outputs": [
    {
     "data": {
      "image/png": "[encoded data removed]",
      "text/plain": [
       "<matplotlib.figure.Figure at 0x11e30e310>"
      ]
     },
     "metadata": {},
     "output_type": "display_data"
    },
    {
     "name": "stdout",
     "output_type": "stream",
     "text": [
      "(array([  1,   2,   9,  14,  15,  24,  33,  34,  38,  45,  46,  49,  50,\n",
      "        63,  74,  75,  80,  83,  85,  86,  87,  91,  99, 104, 108, 112,\n",
      "       115, 132, 143, 145, 148, 150, 155, 164, 167, 180, 184, 188, 189,\n",
      "       192, 199, 205, 209, 212, 228, 241, 256, 257, 258, 277, 283, 286,\n",
      "       323, 325, 341, 343, 344, 347, 349, 355, 356, 368, 369, 375, 385,\n",
      "       396, 398, 407, 414, 415, 418, 433, 438, 449, 468, 475, 483, 490,\n",
      "       499, 504, 512, 513, 522, 527, 536]),)\n"
     ]
    },
    {
     "data": {
      "image/png": "[encoded data removed]",
      "text/plain": [
       "<matplotlib.figure.Figure at 0x18eb67c10>"
      ]
     },
     "metadata": {},
     "output_type": "display_data"
    },
    {
     "name": "stdout",
     "output_type": "stream",
     "text": [
      "[ nan  nan  nan  nan  nan  nan  nan  nan  nan  nan  nan  nan  nan  nan  nan\n",
      "  nan  nan  nan  nan  nan  nan  nan  nan  nan  nan  nan  nan  nan  nan  nan\n",
      "  nan  nan  nan  nan  nan  nan  nan  nan  nan  nan  nan  nan  nan  nan  nan\n",
      "  nan  nan  nan  nan  nan  nan  nan  nan  nan  nan  nan  nan  nan  nan  nan\n",
      "  nan  nan  nan  nan  nan  nan  nan  nan  nan  nan  nan  nan  nan  nan  nan\n",
      "  nan  nan  nan  nan  nan  nan  nan  nan  nan  nan]\n",
      "[ 2.          2.          2.5         1.66666667  1.33333333  1.\n",
      "  1.33333333  1.66666667  1.5         1.33333333  1.66666667  1.          1.\n",
      "  1.5         5.          3.          1.5         2.          3.75        4.5\n",
      "  5.25        1.5         2.          2.5         1.5         2.5         1.\n",
      "  2.5         1.          1.          1.5         2.5         1.5         1.\n",
      "  1.          2.5         1.5         1.33333333  1.66666667  2.5         1.5\n",
      "  1.          3.5         3.          2.5         2.          1.75        1.5\n",
      "  1.25        6.5         2.          3.5         1.5         2.          2.5\n",
      "  1.33333333  1.66666667  3.5         3.          1.          1.          2.\n",
      "  3.          2.5         1.          1.5         2.          1.5         2.\n",
      "  3.          2.5         2.5         2.          2.          1.5         1.\n",
      "  1.          1.5         1.5         3.          2.          2.          2.\n",
      "  3.          1.5       ]\n"
     ]
    }
   ],
   "source": [
    "y = matrix[idx_interpt[2000], :]\n",
    "x = np.arange(0, len(y))\n",
    "plt.plot(x, y)\n",
    "plt.show()\n",
    "\n",
    "yy_idx = np.where(np.isnan(y))\n",
    "print(yy_idx)\n",
    "yy = np.delete(y, yy_idx)\n",
    "xx = np.delete(x, yy_idx)\n",
    "f = interp1d(xx, yy)\n",
    "xnew = np.arange(0, len(y))\n",
    "ynew = f(xnew) # use interpolation function returned by `interp1d`\n",
    "plt.plot(xnew, ynew)\n",
    "plt.show()\n",
    "\n",
    "print(y[yy_idx])\n",
    "print(ynew[yy_idx])"
   ]
  },
  {
   "cell_type": "code",
   "execution_count": null,
   "metadata": {
    "collapsed": true
   },
   "outputs": [],
   "source": []
  },
  {
   "cell_type": "code",
   "execution_count": null,
   "metadata": {
    "collapsed": true
   },
   "outputs": [],
   "source": []
  },
  {
   "cell_type": "code",
   "execution_count": 75,
   "metadata": {
    "collapsed": false
   },
   "outputs": [],
   "source": []
  },
  {
   "cell_type": "code",
   "execution_count": 68,
   "metadata": {
    "collapsed": true
   },
   "outputs": [],
   "source": [
    "from datetime import datetime\n",
    "\n",
    "def strc(x):\n",
    "    s = str(x) if x >= 10 else '0' + str(x)\n",
    "    return s\n",
    "\n",
    "def generate_submission_2(result):\n",
    "    ttime = datetime.now()\n",
    "    time2str = strc(ttime.month) + strc(ttime.day) + strc(ttime.hour) + strc(ttime.minute)\n",
    "    filename = '../result/submission_' + time2str + '.csv'\n",
    "    days = 60\n",
    "    page_num = 145063\n",
    "    if isinstance(result, pd.DataFrame):\n",
    "        temp = result.values\n",
    "    elif isinstance(result, np.ndarray):\n",
    "        temp = result\n",
    "    else:\n",
    "        print('to do')\n",
    "    submission_result = pd.read_csv('../data/sample_submission_1.csv')\n",
    "    sub_res = submission_result.values\n",
    "    map_pos = pd.read_csv('../tmp/map_pos.csv').values\n",
    "\n",
    "\n",
    "    if temp.shape != (page_num, days):\n",
    "        print('to do')\n",
    "        return\n",
    "\n",
    "    with open(filename, 'wb') as csv_file:\n",
    "        writer = csv.writer(csv_file)\n",
    "        writer.writerow(['Id', 'Visits'])\n",
    "        for i in range(page_num * days):\n",
    "            value = result[map_pos[i, 0], map_pos[i, 1]]\n",
    "            writer.writerow([sub_res[i, 0], value])"
   ]
  },
  {
   "cell_type": "code",
   "execution_count": 66,
   "metadata": {
    "collapsed": false
   },
   "outputs": [
    {
     "name": "stdout",
     "output_type": "stream",
     "text": [
      "(1048575, 2)\n"
     ]
    }
   ],
   "source": [
    "submission_result = pd.read_csv('../data/sample_submission_1.csv')\n",
    "sub_res = submission_result.values\n",
    "print(sub_res.shape)"
   ]
  },
  {
   "cell_type": "code",
   "execution_count": null,
   "metadata": {
    "collapsed": true
   },
   "outputs": [],
   "source": []
  }
 ],
 "metadata": {
  "kernelspec": {
   "display_name": "Python 2",
   "language": "python",
   "name": "python2"
  },
  "language_info": {
   "codemirror_mode": {
    "name": "ipython",
    "version": 2
   },
   "file_extension": ".py",
   "mimetype": "text/x-python",
   "name": "python",
   "nbconvert_exporter": "python",
   "pygments_lexer": "ipython2",
   "version": "2.7.12"
  }
 },
 "nbformat": 4,
 "nbformat_minor": 0
}
